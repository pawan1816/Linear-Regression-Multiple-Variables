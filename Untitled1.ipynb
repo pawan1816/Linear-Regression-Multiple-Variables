{
 "cells": [
  {
   "cell_type": "code",
   "execution_count": 1,
   "id": "e87a4e6f-6c8f-4690-b235-b18cb5adab0e",
   "metadata": {},
   "outputs": [],
   "source": [
    "#Machine Learning Tutorial Python - 4: Gradient Descent and Cost Function"
   ]
  },
  {
   "cell_type": "code",
   "execution_count": 3,
   "id": "cf7643e1-9180-4adc-b5c2-1a0941434837",
   "metadata": {},
   "outputs": [],
   "source": [
    "import pandas as pd\n",
    "import numpy as np\n",
    "from sklearn import linear_model"
   ]
  },
  {
   "cell_type": "code",
   "execution_count": 5,
   "id": "da1a542d-59e3-452d-ade2-442cfab4ad54",
   "metadata": {},
   "outputs": [],
   "source": [
    "# Mean Squared Error(one of the Cost Function)\n",
    "# mse=1/n * summation of the square of (Yi-Ypredicted)  from 1 to n \n",
    "# Gradient Descent is an algorithms that finds best fit line for given training data set"
   ]
  },
  {
   "cell_type": "code",
   "execution_count": null,
   "id": "6fa2973c-d0f7-4345-9998-4ecf893da138",
   "metadata": {},
   "outputs": [],
   "source": []
  }
 ],
 "metadata": {
  "kernelspec": {
   "display_name": "Python [conda env:base] *",
   "language": "python",
   "name": "conda-base-py"
  },
  "language_info": {
   "codemirror_mode": {
    "name": "ipython",
    "version": 3
   },
   "file_extension": ".py",
   "mimetype": "text/x-python",
   "name": "python",
   "nbconvert_exporter": "python",
   "pygments_lexer": "ipython3",
   "version": "3.12.7"
  }
 },
 "nbformat": 4,
 "nbformat_minor": 5
}
